{
  "nbformat": 4,
  "nbformat_minor": 0,
  "metadata": {
    "colab": {
      "provenance": [],
      "include_colab_link": true
    },
    "kernelspec": {
      "name": "python3",
      "display_name": "Python 3"
    },
    "language_info": {
      "name": "python"
    }
  },
  "cells": [
    {
      "cell_type": "markdown",
      "metadata": {
        "id": "view-in-github",
        "colab_type": "text"
      },
      "source": [
        "<a href=\"https://colab.research.google.com/github/ProfAndersonVanin/orange_juridico/blob/main/ConverteCSV.ipynb\" target=\"_parent\"><img src=\"https://colab.research.google.com/assets/colab-badge.svg\" alt=\"Open In Colab\"/></a>"
      ]
    },
    {
      "cell_type": "code",
      "execution_count": null,
      "metadata": {
        "colab": {
          "base_uri": "https://localhost:8080/"
        },
        "id": "cxKhWQmwI1k_",
        "outputId": "082bf1e9-26c4-4a3c-f433-24d8bcf6f036"
      },
      "outputs": [
        {
          "output_type": "stream",
          "name": "stdout",
          "text": [
            "Mounted at /content/drive\n"
          ]
        }
      ],
      "source": [
        "# esse código permite que o notebook acesse seu documento xls qu está no seu Drive\n",
        "from google.colab import drive\n",
        "drive.mount('/content/drive')"
      ]
    },
    {
      "cell_type": "code",
      "source": [
        "import pandas as pd\n",
        "#endereço do notebook que está no seu drive\n",
        "read_file = pd.read_excel(r'/content/drive/MyDrive/baseDados/BASE_DE_DADOS_ORIGINAL.xlsx')\n",
        "#endereço de onde quer salvar seu csv no seu drive\n",
        "read_file.to_csv (r'/content/drive/MyDrive/baseDados/BASE_DE_DADOS_ORIGINAL_CONVERTIDA.csv', index = None, header = True)"
      ],
      "metadata": {
        "id": "eMty5a0bJfvr"
      },
      "execution_count": null,
      "outputs": []
    }
  ]
}